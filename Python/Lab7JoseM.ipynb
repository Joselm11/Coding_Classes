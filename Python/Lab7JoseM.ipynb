{
 "cells": [
  {
   "cell_type": "markdown",
   "id": "48959f50-1878-46ed-85b3-0fb75e3fad44",
   "metadata": {},
   "source": [
    "### Lab 7"
   ]
  },
  {
   "cell_type": "code",
   "execution_count": 119,
   "id": "f9e84765-a975-41d4-86d9-ee7e1b84d438",
   "metadata": {},
   "outputs": [],
   "source": [
    "# Creating the CSV\n",
    "import csv\n",
    "\n",
    "games = [[\"Mario Kart 8\", \"meme@me.com\", \"23,458\"],\n",
    "        [\"Super Smash Brothers\", \"meme@me.com\", \"15,000\"],\n",
    "        [\"Fortnite\", \"meme@me.com\", \"18,000\"]]\n",
    "\n",
    "with open(\"games.csv\", \"w\", newline=\"\") as file:\n",
    "    writer = csv.writer(file)\n",
    "    writer.writerows(games)\n",
    "    "
   ]
  },
  {
   "cell_type": "code",
   "execution_count": 121,
   "id": "c29cd0b6-c233-4b51-9f89-1ab2c58064f7",
   "metadata": {},
   "outputs": [
    {
     "name": "stdout",
     "output_type": "stream",
     "text": [
      "Mario Kart 8\n",
      "Super Smash Brothers\n",
      "Fortnite\n"
     ]
    }
   ],
   "source": [
    "# had to check how it was being read because code was acting up.\n",
    "import csv\n",
    "\n",
    "with open(\"games.csv\", newline=\"\") as file:\n",
    "    reader = csv.reader(file)\n",
    "    for row in reader:\n",
    "        print(row[0])"
   ]
  },
  {
   "cell_type": "code",
   "execution_count": 137,
   "id": "7efd6b3b-f98f-4bb7-a324-19a697bc50e5",
   "metadata": {},
   "outputs": [
    {
     "name": "stdout",
     "output_type": "stream",
     "text": [
      "Welcome to the Game Manager!\n",
      "COMMAND MENU\n",
      "list - Display all games\n",
      "view - View a game\n",
      "add - Add a movie\n",
      "del - Delete a movie\n",
      "exit - exit program\n"
     ]
    },
    {
     "name": "stdin",
     "output_type": "stream",
     "text": [
      "Command:  list\n"
     ]
    },
    {
     "name": "stdout",
     "output_type": "stream",
     "text": [
      "1. Mario Kart 8\n",
      "2. Super Smash Brothers\n",
      "3. Fortnite\n",
      "\n"
     ]
    },
    {
     "name": "stdin",
     "output_type": "stream",
     "text": [
      "\n",
      "Command:  view\n",
      "Number:  2\n"
     ]
    },
    {
     "name": "stdout",
     "output_type": "stream",
     "text": [
      "Game: Super Smash Brothers\n",
      "High Scorer Email: meme@me.com\n",
      "score: 15,000\n"
     ]
    },
    {
     "name": "stdin",
     "output_type": "stream",
     "text": [
      "\n",
      "Command:  exit\n"
     ]
    },
    {
     "name": "stdout",
     "output_type": "stream",
     "text": [
      "Bye!\n"
     ]
    }
   ],
   "source": [
    "#Jose Moreno\n",
    "#Game Manager\n",
    "\n",
    "import csv\n",
    "\n",
    "file_name = \"games.csv\"\n",
    "\n",
    "def display_menu():\n",
    "    print(\"COMMAND MENU\")\n",
    "    print(\"list - Display all games\")\n",
    "    print(\"view - View a game\")\n",
    "    print(\"add - Add a movie\")\n",
    "    print(\"del - Delete a movie\")\n",
    "    print(\"exit - exit program\")\n",
    "\n",
    "def write_movies(game_list):\n",
    "    \"\"\"\n",
    "    Write to file\n",
    "    \"\"\"\n",
    "    with open(file_name, \"w\", newline=\"\") as file:\n",
    "        writer = csv.writer(file)\n",
    "        writer.writerows(game_list)\n",
    "            \n",
    "def read_games_from_file(file_name):\n",
    "    \"\"\"\n",
    "    Reading from the file\n",
    "    \"\"\"\n",
    "    game_list = []\n",
    "    with open(file_name, newline=\"\") as file:\n",
    "        reader = csv.reader(file)\n",
    "        for row in reader:\n",
    "            game_list.append(row)\n",
    "    return game_list\n",
    "\n",
    "def list(game_list):\n",
    "    \"\"\"\n",
    "    Prints out only the title of games\n",
    "    \"\"\"\n",
    "    for i in range(len(game_list)):\n",
    "        game = game_list[i]\n",
    "        print(str(i+1) + \". \" + game[0])       \n",
    "    print()\n",
    "            \n",
    "def view(game_list):\n",
    "    \"\"\"\n",
    "    Checks for number then takes game from game list and outputs title, email, and score.\n",
    "    \"\"\"\n",
    "    number = int(input(\"Number: \"))\n",
    "    if number < 1 or number > len(game_list):\n",
    "        print(\"Invalid game number.\\n\")\n",
    "    else:\n",
    "        game = game_list[number-1]\n",
    "        title, email, score = game\n",
    "        print(\"Game: \" + title)\n",
    "        print(\"High Scorer Email: \" + email)\n",
    "        print(\"score: \" + score)\n",
    "        \n",
    "def add(game_list):\n",
    "    \"\"\"\n",
    "    Adds variable for game like title, email, and score. Then makes a new list of game inside game list\n",
    "    \"\"\"\n",
    "    title = input(\"Game: \")\n",
    "    email = input(\"High Scorer Email: \")\n",
    "    score = input(\"High Score: \")\n",
    "    game = []\n",
    "    game.append(title)\n",
    "    game.append(email)\n",
    "    game.append(score)\n",
    "    game_list.append(game)\n",
    "    print(game[0] + \" was added.\\n\")\n",
    "    \n",
    "def delete(game_list):\n",
    "    \"\"\"\n",
    "    deletes game from list using pop to remove and checks if game number is valid or not.\n",
    "    \"\"\"\n",
    "    bad\n",
    "    number = int(input(\"Game number: \"))\n",
    "    if number < 1 or number > len(game_list):\n",
    "        print(\"Invalid game number.\\n\")\n",
    "    else:\n",
    "        game = game_list.pop(number-1)\n",
    "        print(game[0] + \" was deleted.\\n\")\n",
    "              \n",
    "def main():\n",
    "    \"\"\"\n",
    "    List of games with loop and nested if's to continue loop while giving user options to choose from.\n",
    "    \"\"\"\n",
    "    game_list=read_games_from_file(file_name)\n",
    "    print(\"Welcome to the Game Manager!\")\n",
    "    display_menu()\n",
    "    command = input(\"Command: \")\n",
    "        \n",
    "    while (command.lower() != \"exit\"):\n",
    "        \n",
    "        if command.lower() == \"list\":\n",
    "            list(game_list)\n",
    "        elif command.lower() == \"view\":\n",
    "            view(game_list)\n",
    "        elif command.lower() == \"add\":\n",
    "            add(game_list)\n",
    "        elif command.lower() == \"del\":\n",
    "            delete(game_list)\n",
    "        else:\n",
    "            print(\"Not a valid command.  Please try again.\\n\")\n",
    "            \n",
    "        command = input(\"\\nCommand: \")\n",
    "               \n",
    "    print(\"Bye!\")     \n",
    "        \n",
    "if __name__ == \"__main__\":\n",
    "    main()"
   ]
  },
  {
   "cell_type": "code",
   "execution_count": null,
   "id": "6319f186-4c83-4fc8-be61-3055f3ef7510",
   "metadata": {},
   "outputs": [],
   "source": []
  }
 ],
 "metadata": {
  "kernelspec": {
   "display_name": "Python 3 (ipykernel)",
   "language": "python",
   "name": "python3"
  },
  "language_info": {
   "codemirror_mode": {
    "name": "ipython",
    "version": 3
   },
   "file_extension": ".py",
   "mimetype": "text/x-python",
   "name": "python",
   "nbconvert_exporter": "python",
   "pygments_lexer": "ipython3",
   "version": "3.12.4"
  }
 },
 "nbformat": 4,
 "nbformat_minor": 5
}
