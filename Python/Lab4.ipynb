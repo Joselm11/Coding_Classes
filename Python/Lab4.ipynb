{
 "cells": [
  {
   "cell_type": "markdown",
   "id": "e4599ae9-ad8c-4016-b8ec-ad8a78c55873",
   "metadata": {},
   "source": [
    "### Lab 4 Jose, Ariel, Mohammad"
   ]
  },
  {
   "cell_type": "markdown",
   "id": "ae1d0aae-cd74-42cb-a569-9e4fdc078b7f",
   "metadata": {},
   "source": [
    "### Problem 1"
   ]
  },
  {
   "cell_type": "code",
   "execution_count": null,
   "id": "4a99715a-629d-4089-9299-68949455f0cd",
   "metadata": {},
   "outputs": [],
   "source": [
    "#Authors: Jose Moreno, Mohammad Khwaja and Ariel Wong-Edwin.\n",
    "# Dating program now using for statement to show the amount of loops\n",
    "# used along with displaying the Possible date number.\n",
    "\n",
    "for date_number in range(1, 4):\n",
    "    your_age = int(input(f\"Possible Date #{date_number}:\\nEnter your age: \"))\n",
    "    love_interest_age = int(input(\"Enter your love interest's age: \"))\n",
    "    print(\" \")\n",
    "\n",
    "    if love_interest_age < (your_age / 2 + 7):\n",
    "        print(\"Are you kidding – you are too creepy! Find someone your own age!!!!\")\n",
    "    else:\n",
    "        print(\"The creepiness factor is gone! Good luck with your date!\")\n",
    "        print(\" \")"
   ]
  },
  {
   "cell_type": "markdown",
   "id": "f0bbe70c-aee9-4a85-8458-988f5dc3cdfa",
   "metadata": {},
   "source": [
    "### Question 2"
   ]
  },
  {
   "cell_type": "code",
   "execution_count": 90,
   "id": "02af8f81-5aa2-4e76-998c-8381f94d7a02",
   "metadata": {},
   "outputs": [
    {
     "name": "stdout",
     "output_type": "stream",
     "text": [
      "The sum of all integers between 0 and 100: 5050\n",
      "\n",
      "The sum of all even integers between 0 and 100: 2550\n",
      "\n",
      "The sum of all odd integers between 0 and 100: 2500\n"
     ]
    }
   ],
   "source": [
    "### group 7\n",
    "### question 2\n",
    "sum = 0\n",
    "for num in range (0,101,1):\n",
    "    sum = sum + num\n",
    "\n",
    "even_int = 0\n",
    "for num in range (0,101,2):\n",
    "    even_int = even_int + num\n",
    "\n",
    "odd_int = 0\n",
    "for num in range (1,101,2):\n",
    "    odd_int = odd_int + num\n",
    "\n",
    "print (\"The sum of all integers between 0 and 100: \" + str(sum)+\"\\n\")\n",
    "print (\"The sum of all even integers between 0 and 100: \" + str(even_int)+\"\\n\")\n",
    "print (\"The sum of all odd integers between 0 and 100: \" + str(odd_int))"
   ]
  },
  {
   "cell_type": "code",
   "execution_count": 41,
   "id": "107fd152-8eb7-462e-9976-56ec386cf49f",
   "metadata": {},
   "outputs": [
    {
     "ename": "TypeError",
     "evalue": "'int' object is not callable",
     "output_type": "error",
     "traceback": [
      "\u001b[0;31m---------------------------------------------------------------------------\u001b[0m",
      "\u001b[0;31mTypeError\u001b[0m                                 Traceback (most recent call last)",
      "Cell \u001b[0;32mIn[41], line 1\u001b[0m\n\u001b[0;32m----> 1\u001b[0m total_sum \u001b[38;5;241m=\u001b[39m \u001b[38;5;28msum\u001b[39m(\u001b[38;5;28mrange\u001b[39m(\u001b[38;5;241m101\u001b[39m))\n\u001b[1;32m      3\u001b[0m \u001b[38;5;66;03m# Calculate the sum of all even integers from 0 to 100\u001b[39;00m\n\u001b[1;32m      4\u001b[0m total_even_sum \u001b[38;5;241m=\u001b[39m \u001b[38;5;28msum\u001b[39m(\u001b[38;5;28mrange\u001b[39m(\u001b[38;5;241m0\u001b[39m, \u001b[38;5;241m101\u001b[39m, \u001b[38;5;241m2\u001b[39m))\n",
      "\u001b[0;31mTypeError\u001b[0m: 'int' object is not callable"
     ]
    }
   ],
   "source": [
    "### ChatGPT version\n",
    "### condenses code and does not use for.\n",
    "#total_sum = sum(range(101))\n",
    "\n",
    "### Calculate the sum of all even integers from 0 to 100\n",
    "#total_even_sum = sum(range(0, 101, 2))\n",
    "\n",
    "### Calculate the sum of all odd integers from 0 to 100\n",
    "#total_odd_sum = sum(range(1, 101, 2))\n",
    "\n",
    "### Output the results\n",
    "#print(f\"The sum of all integers between 0 and 100: {total_sum}\\n\")\n",
    "#print(f\"The sum of all even integers between 0 and 100: {total_even_sum}\\n\")\n",
    "#print(f\"The sum of all odd integers between 0 and 100: {total_odd_sum}\\n\")"
   ]
  },
  {
   "cell_type": "markdown",
   "id": "8c0cb600-2dba-452e-808a-928d7fee017f",
   "metadata": {},
   "source": [
    "### Question 3"
   ]
  },
  {
   "cell_type": "code",
   "execution_count": 111,
   "id": "fb031f45-96c3-497c-a990-4f9725bd7480",
   "metadata": {},
   "outputs": [
    {
     "name": "stdout",
     "output_type": "stream",
     "text": [
      "The coin landed on tails.\n",
      "tails, you LOSE!\n",
      "The coin landed on tails.\n",
      "tails, you LOSE!\n",
      "The coin landed on heads.\n",
      "you WIN!\n",
      "The coin landed on heads.\n",
      "you WIN!\n",
      "The coin landed on heads.\n",
      "you WIN!\n",
      "The coin landed on tails.\n",
      "tails, you LOSE!\n",
      "The coin landed on heads.\n",
      "you WIN!\n",
      "The coin landed on tails.\n",
      "tails, you LOSE!\n",
      "The coin landed on heads.\n",
      "you WIN!\n",
      "The coin landed on tails.\n",
      "tails, you LOSE!\n",
      "\n",
      "Number of Heads: 5\n",
      "Number of Tails: 5\n",
      "you now have $500.00 in your wallet.\n"
     ]
    }
   ],
   "source": [
    "import random\n",
    "count =float(500)\n",
    "heads=0\n",
    "tails=0\n",
    "for i in range(101):\n",
    "    coin = random.randint(1,2)\n",
    "    if coin == 1:\n",
    "        print(\"The coin landed on heads.\")\n",
    "        print (\"you WIN!\")\n",
    "        count +=10\n",
    "        heads+=1\n",
    "    elif coin == 2:\n",
    "        print(\"The coin landed on tails.\")\n",
    "        print (\"tails, you LOSE!\")\n",
    "        count-=10\n",
    "        tails+=1\n",
    "\n",
    "print(\"\\nNumber of Heads: \"+str(heads))\n",
    "print(\"Number of Tails: \"+str(tails))\n",
    "print(\"you now have $\"+(f\"{count:.2f}\")+ \" in your wallet.\")"
   ]
  },
  {
   "cell_type": "markdown",
   "id": "ef01e8b0-eede-4682-895c-60336f55c953",
   "metadata": {},
   "source": [
    "### Question 5"
   ]
  },
  {
   "cell_type": "code",
   "execution_count": 115,
   "id": "8f9dc004-5766-4ad6-ba01-ecc8fd7a0097",
   "metadata": {},
   "outputs": [
    {
     "name": "stdin",
     "output_type": "stream",
     "text": [
      "Enter a test score between 0 and 100,-1 when done:  20\n",
      "Enter a test score between 0 and 100,-1 when done:  20\n",
      "Enter a test score between 0 and 100,-1 when done:  30\n",
      "Enter a test score between 0 and 100,-1 when done:  -1\n"
     ]
    },
    {
     "name": "stdout",
     "output_type": "stream",
     "text": [
      "That's not a valid score\n",
      "\n",
      "The average of 3 test scores is 23.333333333333332\n",
      "(Consider when -1 is the first score entered)\n"
     ]
    }
   ],
   "source": [
    "#Question 5\n",
    "total = 0.0\n",
    "count = 0\n",
    "scores = 0.0\n",
    "\n",
    "while scores >=0.0:\n",
    "    scores = float(input(\"Enter a test score between 0 and 100,-1 when done: \"))\n",
    "    if scores >= 0.0 and scores<=100:\n",
    "        total = total + scores\n",
    "        count = count + 1\n",
    "    else:\n",
    "        print(\"That's not a valid score\")\n",
    "\n",
    "if count > 0 :\n",
    "    average = total / count\n",
    "    print(\"\\nThe average of\",count,\"test scores is\", average)\n",
    "    print(\"(Consider when -1 is the first score entered)\")\n",
    "else :\n",
    "    print(\"No scores were entered.\")"
   ]
  },
  {
   "cell_type": "code",
   "execution_count": null,
   "id": "726a5f51-dabd-43a2-9c2b-b2d3ae31271f",
   "metadata": {},
   "outputs": [],
   "source": []
  }
 ],
 "metadata": {
  "kernelspec": {
   "display_name": "Python 3 (ipykernel)",
   "language": "python",
   "name": "python3"
  },
  "language_info": {
   "codemirror_mode": {
    "name": "ipython",
    "version": 3
   },
   "file_extension": ".py",
   "mimetype": "text/x-python",
   "name": "python",
   "nbconvert_exporter": "python",
   "pygments_lexer": "ipython3",
   "version": "3.12.4"
  }
 },
 "nbformat": 4,
 "nbformat_minor": 5
}
