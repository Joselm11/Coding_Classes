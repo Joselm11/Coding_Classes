{
 "cells": [
  {
   "cell_type": "code",
   "execution_count": 1,
   "id": "adaa79a3-efba-4110-a1f4-d3135d045ff0",
   "metadata": {},
   "outputs": [
    {
     "name": "stdin",
     "output_type": "stream",
     "text": [
      "Enter full name:  Tom Kava\n"
     ]
    },
    {
     "name": "stdout",
     "output_type": "stream",
     "text": [
      "\n"
     ]
    },
    {
     "name": "stdin",
     "output_type": "stream",
     "text": [
      "Enter password:   QW213adaw\n"
     ]
    },
    {
     "name": "stdout",
     "output_type": "stream",
     "text": [
      "\n",
      "Hi Tom, thanks for creating an account.\n"
     ]
    }
   ],
   "source": [
    "### Jose and Thomas\n",
    "### lab 9\n",
    "def get_full_name():\n",
    "    bad_name = True\n",
    "    while bad_name:\n",
    "        name = input(\"Enter full name: \").strip()\n",
    "        if \" \" in name:\n",
    "            bad_name = False\n",
    "            return name\n",
    "        else:\n",
    "            print(\"You must enter your full name.\")\n",
    "            \n",
    "def get_password():\n",
    "    bad_pwd = True\n",
    "    while bad_pwd:\n",
    "        password = input(\"Enter password:  \").strip()\n",
    "        digit = False\n",
    "        cap_letter = False\n",
    "        for char in password:\n",
    "            if char.isdigit():\n",
    "                digit = True\n",
    "            elif char.isupper():\n",
    "                cap_letter = True\n",
    "        if digit == False or cap_letter == False or len(password) < 8:\n",
    "            print(\"Password must be 8 characters or more \\n\" +\n",
    "                  \"with at least one digit and one uppercase letter.\")\n",
    "        else:\n",
    "            bad_pwd = False\n",
    "            return password\n",
    "\n",
    "def get_email():\n",
    "    \"\"\"\n",
    "    Checks location of @ and .com to approve email\n",
    "    \"\"\"\n",
    "    bad_email = True\n",
    "    while bad_email:\n",
    "        email = input (\"Enter the email: \").strip()\n",
    "        at_index = email.find(\"@\")\n",
    "        dot_index = email.find(\".com\", at_index)\n",
    "        if at_index == -1 or dot_index == -1:\n",
    "            print(\"Invalid email address: \", email)\n",
    "        else:\n",
    "            bad_email = False\n",
    "            return email;\n",
    "\n",
    "def get_number():\n",
    "    \"\"\"\n",
    "    checks the number if it has 10 digits but can have more characters\n",
    "    \"\"\"\n",
    "    bad_num = True\n",
    "    while bad_num:\n",
    "        num = input(\"Enter a phone number\").strip()\n",
    "        digit = True\n",
    "        for char in num:\n",
    "            if char.isdigit():\n",
    "                digit = False\n",
    "            elif char.isdigit():\n",
    "                digit = True\n",
    "        if digit == True or len(num) < 10:\n",
    "            print(\"Please enter a 10-digit number\")\n",
    "        else:\n",
    "            bad_num = False\n",
    "            return num\n",
    "\n",
    "\n",
    "def format_num(phone):\n",
    "    \"\"\"\n",
    "    Will format the number since we are using NA number\n",
    "    \"\"\"\n",
    "    phone = phone.replace(\"(\",\"\",1)\n",
    "    phone = phone.replace(\")\",\".\",1)\n",
    "    phone = phone.replace(\"-\",\".\",1)\n",
    "    return phone\n",
    "        \n",
    "def get_first_name(full_name):\n",
    "    index1 = full_name.find(\" \")\n",
    "    first_name = full_name[:index1]\n",
    "    return first_name\n",
    "\n",
    "def main():\n",
    "    \"\"\"\n",
    "    Added emails, phone, and format-num on top of the create account.\n",
    "    \"\"\"\n",
    "    full_name = get_full_name()\n",
    "    print()\n",
    "    \n",
    "    password = get_password()\n",
    "    print()\n",
    "\n",
    "    emails = get_email()\n",
    "    print()\n",
    "\n",
    "    phone = get_number();\n",
    "    print()\n",
    "    \n",
    "    first_name = get_first_name(full_name)\n",
    "    print(\"Hi \" + first_name + \", thanks for creating an account.\")\n",
    "    print(f\"Well text you your confirmation code to this number:\", format_num(phone))\n",
    "    \n",
    "if __name__ == \"__main__\":\n",
    "    main()"
   ]
  },
  {
   "cell_type": "code",
   "execution_count": 44,
   "id": "36e6d2e1-743c-4f95-89dc-4e83956f28ee",
   "metadata": {},
   "outputs": [
    {
     "name": "stdout",
     "output_type": "stream",
     "text": [
      "COMMAND MENU\n",
      "list - List all movies\n",
      "add - Add a movie\n",
      "del - Delete a movie\n",
      "exit - exit program\n"
     ]
    },
    {
     "name": "stdin",
     "output_type": "stream",
     "text": [
      "Enter Command:  del\n",
      "Movie number:  4\n"
     ]
    },
    {
     "name": "stdout",
     "output_type": "stream",
     "text": [
      "Invalid movie number.\n",
      "\n",
      "COMMAND MENU\n",
      "list - List all movies\n",
      "add - Add a movie\n",
      "del - Delete a movie\n",
      "exit - exit program\n"
     ]
    },
    {
     "name": "stdin",
     "output_type": "stream",
     "text": [
      "Enter Command:  del\n",
      "Movie number:  3\n"
     ]
    },
    {
     "name": "stdout",
     "output_type": "stream",
     "text": [
      "The Spy Who Dumped Me was deleted.\n",
      "\n",
      "COMMAND MENU\n",
      "list - List all movies\n",
      "add - Add a movie\n",
      "del - Delete a movie\n",
      "exit - exit program\n"
     ]
    },
    {
     "name": "stdin",
     "output_type": "stream",
     "text": [
      "Enter Command:  lsit\n"
     ]
    },
    {
     "name": "stdout",
     "output_type": "stream",
     "text": [
      "Not a valid command.  Please try again.\n",
      "\n"
     ]
    },
    {
     "name": "stdin",
     "output_type": "stream",
     "text": [
      "Enter Command:  list\n"
     ]
    },
    {
     "name": "stdout",
     "output_type": "stream",
     "text": [
      "\n",
      "1. A Star is Born (2018)\n",
      "2. An Old Man and a Gun (2018)\n",
      "\n",
      "COMMAND MENU\n",
      "list - List all movies\n",
      "add - Add a movie\n",
      "del - Delete a movie\n",
      "exit - exit program\n"
     ]
    },
    {
     "name": "stdin",
     "output_type": "stream",
     "text": [
      "Enter Command:  exit\n"
     ]
    },
    {
     "name": "stdout",
     "output_type": "stream",
     "text": [
      "You'll be back!\n"
     ]
    }
   ],
   "source": [
    "def display_menu():\n",
    "    print(\"COMMAND MENU\")\n",
    "    print(\"list - List all movies\")\n",
    "    print(\"add - Add a movie\")\n",
    "    print(\"del - Delete a movie\")\n",
    "    print(\"exit - exit program\")\n",
    "    \n",
    "def list(movie_list):\n",
    "    if len(movie_list) == 0:\n",
    "        print(\"There are no movies in the list.\\n\")\n",
    "    else:\n",
    "        print()\n",
    "        i = 1\n",
    "        for row in movie_list:\n",
    "            print(str(i) + \". \" + row.get(\"name\") + \" (\" + str(row.get(\"year\")) + \")\")\n",
    "            i += 1       \n",
    "        print()\n",
    "    \n",
    "def add(movie_list):\n",
    "    name = input(\"Movie Name: \")\n",
    "    year = input(\"Movie Year: \")\n",
    "    movie = {\"name\": name, \"year\" : year}\n",
    "    movie_list.append(movie)\n",
    "    print(name + \" was added.\\n\")\n",
    "    \n",
    "def delete(movie_list):\n",
    "    number = int(input(\"Movie number: \"))\n",
    "    if number < 1 or number > len(movie_list):\n",
    "        print(\"Invalid movie number.\\n\")\n",
    "    else:\n",
    "        movie = movie_list.pop(number-1)\n",
    "        print(movie[\"name\"] + \" was deleted.\\n\")\n",
    "              \n",
    "def main():\n",
    "    movie_list = [{\"name\" : \"A Star is Born\", \"year\" : 2018}, \n",
    "                  {\"name\" : \"An Old Man and a Gun\", \"year\" : 2018},\n",
    "                  {\"name\" : \"The Spy Who Dumped Me\", \"year\" : 2017}]\n",
    "              \n",
    "    display_menu()\n",
    "    command = input(\"Enter Command: \")\n",
    "        \n",
    "    while (command.lower() != \"exit\"):\n",
    "        \n",
    "        if command.lower() == \"list\":\n",
    "            list(movie_list)\n",
    "            display_menu()\n",
    "        elif command.lower() == \"add\":\n",
    "            add(movie_list)\n",
    "            display_menu()\n",
    "        elif command.lower() == \"del\":\n",
    "            delete(movie_list)\n",
    "            display_menu()\n",
    "        else:\n",
    "            print(\"Not a valid command.  Please try again.\\n\")\n",
    "\n",
    "        command = input(\"Enter Command: \")\n",
    "         \n",
    "    print(\"You'll be back!\")     \n",
    "        \n",
    "if __name__ == \"__main__\":\n",
    "    main()"
   ]
  },
  {
   "cell_type": "code",
   "execution_count": null,
   "id": "0493b766-6f6a-4936-8548-4a475d26efe6",
   "metadata": {},
   "outputs": [],
   "source": []
  }
 ],
 "metadata": {
  "kernelspec": {
   "display_name": "Python 3 (ipykernel)",
   "language": "python",
   "name": "python3"
  },
  "language_info": {
   "codemirror_mode": {
    "name": "ipython",
    "version": 3
   },
   "file_extension": ".py",
   "mimetype": "text/x-python",
   "name": "python",
   "nbconvert_exporter": "python",
   "pygments_lexer": "ipython3",
   "version": "3.12.4"
  }
 },
 "nbformat": 4,
 "nbformat_minor": 5
}
