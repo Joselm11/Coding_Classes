{
 "cells": [
  {
   "cell_type": "markdown",
   "id": "f9f974b7-16d3-497c-bd02-6c46344b67b7",
   "metadata": {},
   "source": [
    "Lab 11\n",
    "\n",
    "Product, Book, Movie:\n",
    "    Added __str__ method, which converts the class to a string and returns that string.\n",
    "\n",
    "Added Album, a new child class of Product. It also has __str__.\n",
    "\n",
    "show_product(product):\n",
    "    Removed use of isinstance with simply printing out the product, since __str__ lets you do that.\n",
    "\n",
    "main():\n",
    "    Added an album to the list of products."
   ]
  },
  {
   "cell_type": "code",
   "execution_count": 19,
   "id": "7fe28551-14b5-46e5-a77f-f0c299e89922",
   "metadata": {},
   "outputs": [
    {
     "name": "stdout",
     "output_type": "stream",
     "text": [
      "The Product Viewer program\n",
      "\n",
      "PRODUCTS\n",
      "1. Stanley 13 Ounce Wood Hammer\n",
      "2. Gone Girl by John Jones\n",
      "3. The Spy Who Dumped Me - DVD (2018)\n",
      "4. All Star by Smash Mouth\n",
      "\n"
     ]
    },
    {
     "name": "stdin",
     "output_type": "stream",
     "text": [
      "Enter product number:  1\n"
     ]
    },
    {
     "name": "stdout",
     "output_type": "stream",
     "text": [
      "\n",
      "PRODUCT DATA\n",
      "Name:           Stanley 13 Ounce Wood Hammer\n",
      "Price:          12.99\n",
      "Discount price: 4.94\n",
      "\n"
     ]
    },
    {
     "name": "stdin",
     "output_type": "stream",
     "text": [
      "Continue? (y/n):  y\n"
     ]
    },
    {
     "name": "stdout",
     "output_type": "stream",
     "text": [
      "\n"
     ]
    },
    {
     "name": "stdin",
     "output_type": "stream",
     "text": [
      "Enter product number:  2\n"
     ]
    },
    {
     "name": "stdout",
     "output_type": "stream",
     "text": [
      "\n",
      "PRODUCT DATA\n",
      "Name:           Gone Girl\n",
      "Price:          15.95\n",
      "Discount price: 10.53\n",
      "Author:         John Jones\n",
      "\n"
     ]
    },
    {
     "name": "stdin",
     "output_type": "stream",
     "text": [
      "Continue? (y/n):  y\n"
     ]
    },
    {
     "name": "stdout",
     "output_type": "stream",
     "text": [
      "\n"
     ]
    },
    {
     "name": "stdin",
     "output_type": "stream",
     "text": [
      "Enter product number:  3\n"
     ]
    },
    {
     "name": "stdout",
     "output_type": "stream",
     "text": [
      "\n",
      "PRODUCT DATA\n",
      "Name:           The Spy Who Dumped Me - DVD\n",
      "Price:          21.99\n",
      "Discount price: 18.91\n",
      "Year:           2018\n",
      "\n"
     ]
    },
    {
     "name": "stdin",
     "output_type": "stream",
     "text": [
      "Continue? (y/n):  y\n"
     ]
    },
    {
     "name": "stdout",
     "output_type": "stream",
     "text": [
      "\n"
     ]
    },
    {
     "name": "stdin",
     "output_type": "stream",
     "text": [
      "Enter product number:  4\n"
     ]
    },
    {
     "name": "stdout",
     "output_type": "stream",
     "text": [
      "\n",
      "PRODUCT DATA\n",
      "Name:           All Star\n",
      "Price:          69.99\n",
      "Discount price: 67.19\n",
      "Artist:         Smash Mouth\n",
      "Format:         WAV\n",
      "\n"
     ]
    },
    {
     "name": "stdin",
     "output_type": "stream",
     "text": [
      "Continue? (y/n):  n\n"
     ]
    },
    {
     "name": "stdout",
     "output_type": "stream",
     "text": [
      "\n"
     ]
    }
   ],
   "source": [
    "# Authors: Jonas Welle, Jose Moreno\n",
    "# Purpose of program: view products, including the latest: music albums.\n",
    "\n",
    "class Product:\n",
    "    \"\"\"Parent class which defines general properties of a product, that being\n",
    "       name, price, and discount percent. It has a __str__ method which can be\n",
    "       easily extended and modified by child classes, since it returns the string\n",
    "       it builds, which can then be modified and added onto by the child class.\"\"\"\n",
    "    \n",
    "    # constructor that initializes three attributes\n",
    "    def __init__(self, name = \"\", price = 0.0, discountPercent = 0):\n",
    "        \"\"\"Constructs a Product object.\"\"\"\n",
    "        self.name = name\n",
    "        self.price = price\n",
    "        self.discountPercent = discountPercent\n",
    "        \n",
    "    # method that uses two two attributes to perform a calculation\n",
    "    def getDiscountAmount(self):\n",
    "        \"\"\"Returns the total deduction in price after a discount.\"\"\"\n",
    "        \n",
    "        return self.price * self.discountPercent / 100\n",
    "    \n",
    "    # method that calls another method to perform a calculation\n",
    "    def getDiscountPrice(self):\n",
    "        \"\"\"Returns the price of the product after undergoing a discount.\"\"\"\n",
    "        \n",
    "        return self.price - self.getDiscountAmount()\n",
    "    \n",
    "    # method thaat returns the author name\n",
    "    def getDescription(self):\n",
    "        \"\"\"Returns the description of the product, which is simply its name.\"\"\"\n",
    "        \n",
    "        return self.name\n",
    "\n",
    "    def __str__(self):\n",
    "        \"\"\"Returns the product as a string. This may be easily extended and modified\n",
    "           by child classes.\"\"\"\n",
    "        \n",
    "        res = \"Name:           \" + self.name + \"\\n\"\n",
    "        res += \"Price:          \" + str(self.price) + \"\\n\"\n",
    "        res += \"Discount price: {:.2f}\".format(self.getDiscountPrice()) + \"\\n\"\n",
    "        return res\n",
    "\n",
    "# code for the Book Subclass\n",
    "class Book(Product):\n",
    "    \"\"\"Extending the Product class, Book also has the author property.\"\"\"\n",
    "    \n",
    "    def __init__(self, name = \"\", price = 0.0, discountPercent = 0, author = \"\"):\n",
    "        \"\"\"Constructs a Book object.\"\"\"\n",
    "        \n",
    "        # first call the constructor of the superclass\n",
    "        Product.__init__(self, name, price, discountPercent)\n",
    "        \n",
    "        # set the author\n",
    "        self.author = author\n",
    "        \n",
    "    # override the getDescription method\n",
    "    def getDescription(self):\n",
    "        \"\"\"Returns the description of the book as a product, as well as the\n",
    "           book's author.\"\"\"\n",
    "        \n",
    "        return Product.getDescription(self) + \" by \" + self.author\n",
    "\n",
    "    def __str__(self):\n",
    "        \"\"\"Converts the book to a string. Contains all the same information\n",
    "           as a product, as well as the book's author.\"\"\"\n",
    "        \n",
    "        res = Product.__str__(self)\n",
    "        res += \"Author:         \" + self.author + \"\\n\"\n",
    "        return res\n",
    "    \n",
    "# The code for the Movie subclass\n",
    "class Movie(Product):\n",
    "    \"\"\"Extending the Product class, Movie also has the year property.\"\"\"\n",
    "    \n",
    "    def __init__(self, name = \"\", price = 0.0, discountPercent = 0, year = \"\"):\n",
    "        \"\"\"Constructs a Movie object.\"\"\"\n",
    "        \n",
    "        # first call the constructor of the superclass\n",
    "        Product.__init__(self, name, price, discountPercent)\n",
    "        \n",
    "        # set the author\n",
    "        self.year = year\n",
    "        \n",
    "    # override the getDescription method\n",
    "    def getDescription(self):\n",
    "        \"\"\"Returns the description of the movie as a product, as well as the\n",
    "           year the movie came out.\"\"\"\n",
    "        \n",
    "        return Product.getDescription(self) + \" (\" + str(self.year) + \")\"\n",
    "\n",
    "    def __str__(self):\n",
    "        \"\"\"Returns the movie as a string. Includes all the same information\n",
    "           as a product, as well as the year the movie came out.\"\"\"\n",
    "        \n",
    "        res = Product.__str__(self)\n",
    "        res += \"Year:           \" + str(self.year) + \"\\n\"\n",
    "        return res\n",
    "\n",
    "# The code for the music album subclass\n",
    "class Album(Product):\n",
    "    \"\"\"Extending the Product class, Album also has the properties\n",
    "       artist and music_format.\"\"\"\n",
    "    \n",
    "    def __init__(self, name = \"\", price = 0.0, discountPercent = 0, artist = \"\", music_format = \"\"):\n",
    "        \"\"\"Constructs an Album object.\"\"\"\n",
    "        \n",
    "        # first call the constructor of the superclass\n",
    "        Product.__init__(self, name, price, discountPercent)\n",
    "        \n",
    "        # set the author\n",
    "        self.artist = artist\n",
    "        self.music_format = music_format\n",
    "        \n",
    "    # override the getDescription method\n",
    "    def getDescription(self):\n",
    "        \"\"\"Returns the description of the album, which includes all\n",
    "           the same information as a product, as well as the album's artist.\"\"\"\n",
    "        \n",
    "        return Product.getDescription(self) + \" by \" + str(self.artist)\n",
    "\n",
    "    def __str__(self):\n",
    "        \"\"\"Returns the album as a string. This includes all the same information\n",
    "           as a product as well as the book's artist and storage format.\"\"\"\n",
    "        \n",
    "        res = Product.__str__(self)\n",
    "        res += \"Artist:         \" + self.artist + \"\\n\"\n",
    "        res += \"Format:         \" + self.music_format + \"\\n\"\n",
    "        return res\n",
    "    \n",
    "def show_product(product):\n",
    "    \"\"\"Prints out a product. Underlying the use of the print function, the\n",
    "       __str__ method is called.\"\"\"\n",
    "    \n",
    "    print(\"PRODUCT DATA\")\n",
    "    print(product)\n",
    "\n",
    "def show_products(products):\n",
    "    \"\"\"Prints a list of product descriptions. Printing the product description \n",
    "       is not as detailed as printing the product itself.\"\"\"\n",
    "    \n",
    "    print(\"PRODUCTS\")\n",
    "    for i in range(len(products)):\n",
    "        product = products[i]\n",
    "        print(str(i+1) + \". \" + product.getDescription())\n",
    "    print()\n",
    "        \n",
    "def main():\n",
    "    \"\"\"Defines a list of products. It first informs the user about them as a \n",
    "       list of brief descriptions, before allowing the user to ask for the full\n",
    "       description of a particular product by entering its product number.\"\"\"\n",
    "    \n",
    "    print(\"The Product Viewer program\")\n",
    "    print()\n",
    "    # a tuple of product objects\n",
    "    products = (Product('Stanley 13 Ounce Wood Hammer', 12.99, 62),\n",
    "                Book(\"Gone Girl\", 15.95, 34, \"John Jones\"),\n",
    "                Movie(\"The Spy Who Dumped Me - DVD\", 21.99, 14, 2018),\n",
    "                Album(\"All Star\", 69.99, 4, \"Smash Mouth\", \"WAV\"))\n",
    "    show_products(products)\n",
    "\n",
    "    again = True\n",
    "    while again:\n",
    "        number = int(input(\"Enter product number: \"))\n",
    "        print()\n",
    "        \n",
    "        product = products[number - 1]\n",
    "        show_product(product)\n",
    "        \n",
    "        choice = input(\"Continue? (y/n): \")\n",
    "        print()\n",
    "        if choice.lower() != \"y\":\n",
    "            again = False\n",
    "    \n",
    "if __name__ == \"__main__\":\n",
    "    main()"
   ]
  },
  {
   "cell_type": "code",
   "execution_count": null,
   "id": "5547750b-26fc-4d3c-8709-4d68e2fc5071",
   "metadata": {},
   "outputs": [],
   "source": []
  }
 ],
 "metadata": {
  "kernelspec": {
   "display_name": "Python 3 (ipykernel)",
   "language": "python",
   "name": "python3"
  },
  "language_info": {
   "codemirror_mode": {
    "name": "ipython",
    "version": 3
   },
   "file_extension": ".py",
   "mimetype": "text/x-python",
   "name": "python",
   "nbconvert_exporter": "python",
   "pygments_lexer": "ipython3",
   "version": "3.12.4"
  }
 },
 "nbformat": 4,
 "nbformat_minor": 5
}
