{
 "cells": [
  {
   "cell_type": "markdown",
   "id": "28cd2880-85af-4e05-9923-d52d6b74d7cc",
   "metadata": {},
   "source": [
    "### Rock, Paper, Scissors!"
   ]
  },
  {
   "cell_type": "code",
   "execution_count": 14,
   "id": "827234c2-d1d1-494b-a059-e055287a5b60",
   "metadata": {},
   "outputs": [
    {
     "name": "stdout",
     "output_type": "stream",
     "text": [
      "Welcome to my game!\n"
     ]
    },
    {
     "name": "stdin",
     "output_type": "stream",
     "text": [
      "Do you want to be 'rock', 'paper', or 'scissors'?  paper\n"
     ]
    },
    {
     "name": "stdout",
     "output_type": "stream",
     "text": [
      "You are  paper\n",
      "The computer has paper\n"
     ]
    }
   ],
   "source": [
    "# Lab 3 Jose Moreno\n",
    "# Rock, Paper, Scissors using random function, nested if\n",
    "import random\n",
    "\n",
    "print(\"Welcome to my game!\")\n",
    "\n",
    "player = input(\"Do you want to be 'rock', 'paper', or 'scissors'? \")\n",
    "print(\"You are \", player)\n",
    "\n",
    "computer = random.choice(['rock', 'paper', 'scissors'])\n",
    "print(\"The computer has\", computer)\n",
    "\n",
    "if player == 'rock':\n",
    "    if computer == 'rock':\n",
    "        print(\"It's a TIE!\")\n",
    "    elif computer == 'paper':\n",
    "        print(\"You LOSE!\")\n",
    "    elif computer == 'scissors':\n",
    "        print (\"You WIN!\")\n",
    "\n",
    "elif player == 'scissors':\n",
    "    if computer =='scissors':\n",
    "        print(\"It's a TIE!!\")\n",
    "    elif computer =='paper':\n",
    "        print(\"You LOSE!\")\n",
    "    elif computer =='rock':\n",
    "        print(\"You WIN!\")\n",
    "\n",
    "elif player == 'paper':\n",
    "    if computer =='scissors':\n",
    "        print(\"You LOSE!\")\n",
    "    elif computer =='rock':\n",
    "        print(\"You WIN!\")\n",
    "    elif computer =='rock':\n",
    "        print(\"You WIN!\")\n"
   ]
  },
  {
   "cell_type": "markdown",
   "id": "059f4cf1-828d-4947-82a8-826e91e46a47",
   "metadata": {},
   "source": [
    "### Rock, Paper, Scissors...Plank and wire?"
   ]
  },
  {
   "cell_type": "code",
   "execution_count": 18,
   "id": "81cb61a9-4c88-47b4-be33-b24d87262ffd",
   "metadata": {},
   "outputs": [
    {
     "name": "stdout",
     "output_type": "stream",
     "text": [
      "Welcome to my game!\n"
     ]
    },
    {
     "name": "stdin",
     "output_type": "stream",
     "text": [
      "Do you want to be 'rock', 'paper', 'scissors', 'plank', or 'wire'?  rock\n"
     ]
    },
    {
     "name": "stdout",
     "output_type": "stream",
     "text": [
      "You are  rock\n",
      "The computer has wire\n",
      "You LOSE!\n"
     ]
    }
   ],
   "source": [
    "# Jose Moreno\n",
    "#Rock, Scissors, Paper, plank, wire using nested if\n",
    "import random\n",
    "\n",
    "print(\"Welcome to my game!\")\n",
    "\n",
    "player = input(\"Do you want to be 'rock', 'paper', 'scissors', 'plank', or 'wire'? \")\n",
    "print(\"You are \", player)\n",
    "\n",
    "computer = random.choice(['rock', 'paper', 'scissors', 'plank', 'wire'])\n",
    "print(\"The computer has\", computer)\n",
    "\n",
    "if player == 'rock':\n",
    "    if computer == 'rock':\n",
    "        print(\"It's a TIE!\")\n",
    "    elif computer == 'paper':\n",
    "        print(\"You LOSE!\")\n",
    "    elif computer == 'scissors':\n",
    "        print (\"You WIN!\")\n",
    "    elif computer == 'plank':\n",
    "        print (\"You WIN!\")\n",
    "    elif computer == 'wire':\n",
    "        print (\"You LOSE!\")\n",
    "\n",
    "elif player == 'scissors':\n",
    "    if computer =='scissors':\n",
    "        print(\"It's a TIE!!\")\n",
    "    elif computer =='paper':\n",
    "        print(\"You LOSE!\")\n",
    "    elif computer =='rock':\n",
    "        print(\"You WIN!\")\n",
    "    elif computer == 'plank':\n",
    "        print (\"You LOSE!\")\n",
    "    elif computer == 'wire':\n",
    "        print (\"You LOSE!\")\n",
    "\n",
    "elif player == 'paper':\n",
    "    if computer =='scissors':\n",
    "        print(\"You LOSE!\")\n",
    "    elif computer =='rock':\n",
    "        print(\"You WIN!\")\n",
    "    elif computer =='paper':\n",
    "        print(\"It's a TIE!\")\n",
    "    elif computer == 'plank':\n",
    "        print (\"It's a TIE!\")\n",
    "    elif computer == 'wire':\n",
    "        print (\"You WIN!\")\n",
    "\n",
    "elif player =='plank':\n",
    "    if computer =='plank':\n",
    "        print(\"It's a TIE!\")\n",
    "    elif computer == 'wire':\n",
    "        print(\"IT's a TIE!\")\n",
    "    elif computer == 'rock':\n",
    "        print(\"you LOSE!\")\n",
    "    elif computer =='scissors':\n",
    "        print(\"You WIN!\")\n",
    "    elif computer =='paper':\n",
    "        print(\"It's a TIE!\")\n",
    "\n",
    "elif player =='wire':\n",
    "    if computer =='plank':\n",
    "        print(\"It's a TIE!\")\n",
    "    elif computer == 'wire':\n",
    "        print(\"IT's a TIE!\")\n",
    "    elif computer == 'rock':\n",
    "        print(\"you WIN!\")\n",
    "    elif computer =='scissors':\n",
    "        print(\"You WIN!\")\n",
    "    elif computer =='paper':\n",
    "        print(\"you LOSE!\")"
   ]
  },
  {
   "cell_type": "markdown",
   "id": "f69aa98d-3ac5-4528-9f21-5f56af730a97",
   "metadata": {},
   "source": [
    "### Choose Your Own Adventure"
   ]
  },
  {
   "cell_type": "code",
   "execution_count": 22,
   "id": "2c144c3e-3999-40bc-8ef0-5a7ed38b0770",
   "metadata": {},
   "outputs": [
    {
     "name": "stdout",
     "output_type": "stream",
     "text": [
      "Where should we stop at first in Peru?\n"
     ]
    },
    {
     "name": "stdin",
     "output_type": "stream",
     "text": [
      "Type 'a' for Matchu Picchu or 'b' for Lima  a\n"
     ]
    },
    {
     "name": "stdout",
     "output_type": "stream",
     "text": [
      "We've just arrived to Matchu Picchu\n",
      "But once you arrive, Some of the buildings are closed for cleaning and reconstruction.\n",
      "Where should we go?\n"
     ]
    },
    {
     "name": "stdin",
     "output_type": "stream",
     "text": [
      "Type 'a' to continue on or type 'b' to get back on the bus.  b\n"
     ]
    },
    {
     "name": "stdout",
     "output_type": "stream",
     "text": [
      "The bus takes you back to the hotel where you rot in bed.\n",
      "that was the main attraction of your trip!\n",
      "you're beginning to contemplate if it was worth it.\n"
     ]
    }
   ],
   "source": [
    "# Jose Moreno\n",
    "# chosing path with inputs and if statements.\n",
    "print (\"Where should we stop at first in Peru?\")\n",
    "\n",
    "choice1 = input(\"Type 'a' for Matchu Picchu or 'b' for Lima \")\n",
    "if choice1 == 'a':\n",
    "    print(\"We've just arrived to Matchu Picchu\")\n",
    "    print(\"But once you arrive, Some of the buildings are closed for cleaning and reconstruction.\")\n",
    "    print(\"Where should we go?\")\n",
    "    choice2 = input(\"Type 'a' to continue on or type 'b' to get back on the bus. \")\n",
    "\n",
    "    if choice2 == 'a':\n",
    "        print(\"a rock hit your head as you were exploring and a llama licks you till you awaken.\")\n",
    "        print(\"you now have a buddy for life!\")\n",
    "    elif choice2 == 'b':\n",
    "        print(\"The bus takes you back to the hotel where you rot in bed.\")\n",
    "        print(\"that was the main attraction of your trip!\")\n",
    "        print(\"you're beginning to contemplate if it was worth it.\")\n",
    "elif choice1 == 'b':\n",
    "    print(\"you arrive at Lima and are starving.\")\n",
    "    Choice3 =input(\"Type 'a' to eat at McDonalds or type 'b' to eat authentic food.\")\n",
    "\n",
    "    if Choice3 == 'a':\n",
    "        print(\"you ate some nuggets and fries.\")\n",
    "        print(\"they remind you of home.\")\n",
    "\n",
    "    if choice3 == 'b':\n",
    "        print(\"you got Lomo Saltado and tore it up.\")\n",
    "        print(\"you're too full to move so you spend the rest of the day in your hotel room.\")\n"
   ]
  },
  {
   "cell_type": "code",
   "execution_count": null,
   "id": "3479c05b-6a91-4584-aaad-8778d50e7443",
   "metadata": {},
   "outputs": [],
   "source": []
  }
 ],
 "metadata": {
  "kernelspec": {
   "display_name": "Python 3 (ipykernel)",
   "language": "python",
   "name": "python3"
  },
  "language_info": {
   "codemirror_mode": {
    "name": "ipython",
    "version": 3
   },
   "file_extension": ".py",
   "mimetype": "text/x-python",
   "name": "python",
   "nbconvert_exporter": "python",
   "pygments_lexer": "ipython3",
   "version": "3.12.4"
  }
 },
 "nbformat": 4,
 "nbformat_minor": 5
}
