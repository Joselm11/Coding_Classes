{
 "cells": [
  {
   "cell_type": "code",
   "execution_count": 2,
   "id": "bf543440-0766-4a09-b79c-b927a82dcf5a",
   "metadata": {},
   "outputs": [
    {
     "name": "stdout",
     "output_type": "stream",
     "text": [
      "Welcome to the Game Manager!\n",
      "COMMAND MENU\n",
      "list - Display all games\n",
      "view - View a game\n",
      "add - Add a movie\n",
      "del - Delete a movie\n",
      "exit - exit program\n"
     ]
    },
    {
     "name": "stdin",
     "output_type": "stream",
     "text": [
      "Enter Command:  view\n",
      "Number:  1\n"
     ]
    },
    {
     "name": "stdout",
     "output_type": "stream",
     "text": [
      "Game: Mario Kart 8\n",
      "High Scorer Email: meme@me.com\n",
      "score: 23,458\n",
      "COMMAND MENU\n",
      "list - Display all games\n",
      "view - View a game\n",
      "add - Add a movie\n",
      "del - Delete a movie\n",
      "exit - exit program\n"
     ]
    },
    {
     "name": "stdin",
     "output_type": "stream",
     "text": [
      "Enter Command:  add\n",
      "Game:  Kung Fu Panda\n",
      "High Scorer Email:  jose,more1270\n",
      "High Score:  44000\n"
     ]
    },
    {
     "name": "stdout",
     "output_type": "stream",
     "text": [
      "Kung Fu Panda was added.\n",
      "\n",
      "COMMAND MENU\n",
      "list - Display all games\n",
      "view - View a game\n",
      "add - Add a movie\n",
      "del - Delete a movie\n",
      "exit - exit program\n"
     ]
    },
    {
     "name": "stdin",
     "output_type": "stream",
     "text": [
      "Enter Command:  list\n"
     ]
    },
    {
     "name": "stdout",
     "output_type": "stream",
     "text": [
      "\n",
      "1. Mario Kart 8\n",
      "2. Super Smash Brothers\n",
      "3. Fortnite\n",
      "4. Kung Fu Panda\n",
      "COMMAND MENU\n",
      "list - Display all games\n",
      "view - View a game\n",
      "add - Add a movie\n",
      "del - Delete a movie\n",
      "exit - exit program\n"
     ]
    },
    {
     "name": "stdin",
     "output_type": "stream",
     "text": [
      "Enter Command:  view\n",
      "Number:  4\n"
     ]
    },
    {
     "name": "stdout",
     "output_type": "stream",
     "text": [
      "Game: Kung Fu Panda\n",
      "High Scorer Email: jose,more1270\n",
      "score: 44000\n",
      "COMMAND MENU\n",
      "list - Display all games\n",
      "view - View a game\n",
      "add - Add a movie\n",
      "del - Delete a movie\n",
      "exit - exit program\n"
     ]
    },
    {
     "name": "stdin",
     "output_type": "stream",
     "text": [
      "Enter Command:  del\n",
      "Game number:  4\n"
     ]
    },
    {
     "ename": "TypeError",
     "evalue": "can only concatenate list (not \"str\") to list",
     "output_type": "error",
     "traceback": [
      "\u001b[0;31m---------------------------------------------------------------------------\u001b[0m",
      "\u001b[0;31mTypeError\u001b[0m                                 Traceback (most recent call last)",
      "Cell \u001b[0;32mIn[2], line 98\u001b[0m\n\u001b[1;32m     95\u001b[0m     \u001b[38;5;28mprint\u001b[39m(\u001b[38;5;124m\"\u001b[39m\u001b[38;5;124mBye!\u001b[39m\u001b[38;5;124m\"\u001b[39m)     \n\u001b[1;32m     97\u001b[0m \u001b[38;5;28;01mif\u001b[39;00m \u001b[38;5;18m__name__\u001b[39m \u001b[38;5;241m==\u001b[39m \u001b[38;5;124m\"\u001b[39m\u001b[38;5;124m__main__\u001b[39m\u001b[38;5;124m\"\u001b[39m:\n\u001b[0;32m---> 98\u001b[0m     main()\n",
      "Cell \u001b[0;32mIn[2], line 88\u001b[0m, in \u001b[0;36mmain\u001b[0;34m()\u001b[0m\n\u001b[1;32m     86\u001b[0m     display_menu()\n\u001b[1;32m     87\u001b[0m \u001b[38;5;28;01melif\u001b[39;00m command\u001b[38;5;241m.\u001b[39mlower() \u001b[38;5;241m==\u001b[39m \u001b[38;5;124m\"\u001b[39m\u001b[38;5;124mdel\u001b[39m\u001b[38;5;124m\"\u001b[39m:\n\u001b[0;32m---> 88\u001b[0m     delete(game_list)\n\u001b[1;32m     89\u001b[0m     display_menu()\n\u001b[1;32m     90\u001b[0m \u001b[38;5;28;01melse\u001b[39;00m:\n",
      "Cell \u001b[0;32mIn[2], line 62\u001b[0m, in \u001b[0;36mdelete\u001b[0;34m(game_list)\u001b[0m\n\u001b[1;32m     60\u001b[0m \u001b[38;5;28;01melse\u001b[39;00m:\n\u001b[1;32m     61\u001b[0m     game \u001b[38;5;241m=\u001b[39m game_list\u001b[38;5;241m.\u001b[39mpop(number\u001b[38;5;241m-\u001b[39m\u001b[38;5;241m1\u001b[39m)\n\u001b[0;32m---> 62\u001b[0m     \u001b[38;5;28mprint\u001b[39m(game \u001b[38;5;241m+\u001b[39m \u001b[38;5;124m\"\u001b[39m\u001b[38;5;124m was deleted.\u001b[39m\u001b[38;5;130;01m\\n\u001b[39;00m\u001b[38;5;124m\"\u001b[39m)\n",
      "\u001b[0;31mTypeError\u001b[0m: can only concatenate list (not \"str\") to list"
     ]
    }
   ],
   "source": [
    "# Game store\n",
    "# using lists to track game, email and score\n",
    "\n",
    "def display_menu():\n",
    "    print(\"COMMAND MENU\")\n",
    "    print(\"list - Display all games\")\n",
    "    print(\"view - View a game\")\n",
    "    print(\"add - Add a movie\")\n",
    "    print(\"del - Delete a movie\")\n",
    "    print(\"exit - exit program\")\n",
    "    \n",
    "def list(game_list):\n",
    "    \"\"\"\n",
    "    Lists out all game names and checks if all games were deleted\n",
    "    \"\"\"\n",
    "    if len(game_list) == 0:\n",
    "            print(\"There are no games in the list.\\n\")\n",
    "    else:\n",
    "        i = 1\n",
    "        print()\n",
    "        for title in game_list:\n",
    "            print(str(i) + \". \" + title[0])\n",
    "            i += 1\n",
    "            \n",
    "def view(game_list):\n",
    "    \"\"\"\n",
    "    Checks for number then takes game from game list and outputs title, email, and score.\n",
    "    \"\"\"\n",
    "    number = int(input(\"Number: \"))\n",
    "    if number < 1 or number > len(game_list):\n",
    "        print(\"Invalid game number.\\n\")\n",
    "    else:\n",
    "        game = game_list[number-1]\n",
    "        title, email, score = game\n",
    "        print(\"Game: \" + title)\n",
    "        print(\"High Scorer Email: \" + email)\n",
    "        print(\"score: \" + score)\n",
    "        \n",
    "def add(game_list):\n",
    "    \"\"\"\n",
    "    Adds variable for game like title, email, and score. Then makes a new list of game inside game list\n",
    "    \"\"\"\n",
    "    title = input(\"Game: \")\n",
    "    email = input(\"High Scorer Email: \")\n",
    "    score = input(\"High Score: \")\n",
    "    game = []\n",
    "    game.append(title)\n",
    "    game.append(email)\n",
    "    game.append(score)\n",
    "    game_list.append(game)\n",
    "    print(game[0] + \" was added.\\n\")\n",
    "    \n",
    "def delete(game_list):\n",
    "    \"\"\"\n",
    "    deletes game from list using pop to remove and checks if game number is valid or not.\n",
    "    \"\"\"\n",
    "    number = int(input(\"Game number: \"))\n",
    "    if number < 1 or number > len(game_list):\n",
    "        print(\"Invalid game number.\\n\")\n",
    "    else:\n",
    "        game = game_list.pop(number-1)\n",
    "        print(game + \" was deleted.\\n\")\n",
    "              \n",
    "def main():\n",
    "    \"\"\"\n",
    "    List of games with loop and nested if's to continue loop while giving user options to choose from.\n",
    "    \"\"\"\n",
    "    game_list = [[\"Mario Kart 8\", \"meme@me.com\", \"23,458\"],\n",
    "        [\"Super Smash Brothers\", \"meme@me.com\", \"15,000\"],\n",
    "        [\"Fortnite\", \"meme@me.com\", \"18,000\"]]\n",
    "\n",
    "    print(\"Welcome to the Game Manager!\")\n",
    "    display_menu()\n",
    "    command = input(\"Enter Command: \")\n",
    "        \n",
    "    while (command.lower() != \"exit\"):\n",
    "        \n",
    "        if command.lower() == \"list\":\n",
    "            list(game_list)\n",
    "            display_menu()\n",
    "        elif command.lower() == \"view\":\n",
    "            view(game_list)\n",
    "            display_menu()\n",
    "        elif command.lower() == \"add\":\n",
    "            add(game_list)\n",
    "            display_menu()\n",
    "        elif command.lower() == \"del\":\n",
    "            delete(game_list)\n",
    "            display_menu()\n",
    "        else:\n",
    "            print(\"Not a valid command.  Please try again.\\n\")\n",
    "            \n",
    "        command = input(\"Enter Command: \")\n",
    "               \n",
    "    print(\"Bye!\")     \n",
    "        \n",
    "if __name__ == \"__main__\":\n",
    "    main()"
   ]
  },
  {
   "cell_type": "code",
   "execution_count": null,
   "id": "566a99d7-48d1-4e8f-979b-1b259dde0ff8",
   "metadata": {},
   "outputs": [],
   "source": []
  }
 ],
 "metadata": {
  "kernelspec": {
   "display_name": "Python 3 (ipykernel)",
   "language": "python",
   "name": "python3"
  },
  "language_info": {
   "codemirror_mode": {
    "name": "ipython",
    "version": 3
   },
   "file_extension": ".py",
   "mimetype": "text/x-python",
   "name": "python",
   "nbconvert_exporter": "python",
   "pygments_lexer": "ipython3",
   "version": "3.12.4"
  }
 },
 "nbformat": 4,
 "nbformat_minor": 5
}
