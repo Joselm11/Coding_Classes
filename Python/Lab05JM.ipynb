{
 "cells": [
  {
   "cell_type": "markdown",
   "id": "8ceeb273-c997-49e9-abd3-99b7b5bf8f0e",
   "metadata": {},
   "source": [
    "### Lab 5"
   ]
  },
  {
   "cell_type": "code",
   "execution_count": 4,
   "id": "7c7eac0c-9853-49a8-9a7e-dbdcc06ac014",
   "metadata": {},
   "outputs": [
    {
     "name": "stdin",
     "output_type": "stream",
     "text": [
      "Enter the first number 9\n",
      "Enter the second number 4\n"
     ]
    },
    {
     "name": "stdout",
     "output_type": "stream",
     "text": [
      "13\n",
      "*******\n",
      "*******\n",
      "*******\n",
      "*******\n",
      "*******\n",
      "*******\n",
      "*******\n",
      "*******\n",
      "*******\n",
      "*******\n",
      "*******\n",
      "*******\n",
      "*******\n"
     ]
    }
   ],
   "source": [
    "### Jose Moreno\n",
    "### using functions to \n",
    "def print_stars(sum_of_total):\n",
    "    for num in range(1, sum_of_total + 1):\n",
    "        print('*'*7)\n",
    "\n",
    "def add_them(numOne, numTwo):\n",
    "    sum = numOne + numTwo\n",
    "    return sum\n",
    "    \n",
    "def main():\n",
    "    numOne=int(input(\"Enter the first number\"))\n",
    "    numTwo=int(input(\"Enter the second number\"))\n",
    "    total_sum = add_them(numOne,numTwo)\n",
    "    print(total_sum)\n",
    "    print_stars(total_sum)\n",
    "    \n",
    "\n",
    "if __name__ == \"__main__\":\n",
    "    main()"
   ]
  },
  {
   "cell_type": "code",
   "execution_count": 12,
   "id": "1a726ba1-8dfa-48aa-a428-341a8f799dc0",
   "metadata": {},
   "outputs": [
    {
     "name": "stdout",
     "output_type": "stream",
     "text": [
      "The sum of all even integers is: 2550\n",
      "The sum of all odd integers is: 2500\n"
     ]
    }
   ],
   "source": [
    "### Jose Moreno\n",
    "### even and odd integers using functions\n",
    "\n",
    "def even ():\n",
    "    total_sum=0\n",
    "    for num in range (0,101,2):\n",
    "        total_sum+=num\n",
    "    return total_sum\n",
    "\n",
    "def odd ():\n",
    "    total_sum=0\n",
    "    for num in range (1,101,2):\n",
    "        total_sum+=num\n",
    "    return total_sum\n",
    "    \n",
    "def main():\n",
    "    sumOne = even()\n",
    "    sumTwo = odd()\n",
    "    print(\"The sum of all even integers is: \" + str(sumOne))\n",
    "    print(\"The sum of all odd integers is: \" + str(sumTwo))\n",
    "\n",
    "if __name__ == \"__main__\":\n",
    "    main()"
   ]
  },
  {
   "cell_type": "code",
   "execution_count": 14,
   "id": "281af316-9097-4ae7-bba2-c66d6746f94a",
   "metadata": {},
   "outputs": [
    {
     "name": "stdout",
     "output_type": "stream",
     "text": [
      "Welcome to the Even/Odd Tester!\n"
     ]
    },
    {
     "name": "stdin",
     "output_type": "stream",
     "text": [
      "Enter an integer:  233\n"
     ]
    },
    {
     "name": "stdout",
     "output_type": "stream",
     "text": [
      "You entered 233 which is an odd number\n"
     ]
    },
    {
     "name": "stdin",
     "output_type": "stream",
     "text": [
      "Do you want to enter another number? (y/n):  n\n"
     ]
    },
    {
     "name": "stdout",
     "output_type": "stream",
     "text": [
      "\n",
      "Hasta la vista, baby!\n"
     ]
    }
   ],
   "source": [
    "###Jose Moreno\n",
    "### using functions in a loop to test integers\n",
    "\"\"\"This displays the title only once\"\"\"\n",
    "def title():\n",
    "    print(\"Welcome to the Even/Odd Tester!\")\n",
    "\n",
    "def tester():\n",
    "    \"\"\" \n",
    "    The tester is used to test an integer if it is even or odd\n",
    "    \"\"\"\n",
    "\n",
    "    integer=int(input(\"Enter an integer: \"))\n",
    "    if integer % 2 == 0:\n",
    "        return \"You entered \" + str(integer) + \" which is an even number\"\n",
    "    else:\n",
    "        return \"You entered \"+str(integer) + \" which is an odd number\"\n",
    "\n",
    "\"\"\" The main calls the title first then it keeps a loop and calls the tester \"\"\"\n",
    "def main():\n",
    "    title();\n",
    "    repeat=\"y\"\n",
    "    while repeat.lower() == \"y\":\n",
    "        print(tester())\n",
    "        repeat = input(\"Do you want to enter another number? (y/n): \")\n",
    "        print()\n",
    "    print(\"Hasta la vista, baby!\")\n",
    "\n",
    "if __name__ == \"__main__\":\n",
    "    main()"
   ]
  },
  {
   "cell_type": "code",
   "execution_count": null,
   "id": "eda84d58-4634-480e-8747-0ebe975a8461",
   "metadata": {},
   "outputs": [],
   "source": []
  }
 ],
 "metadata": {
  "kernelspec": {
   "display_name": "Python 3 (ipykernel)",
   "language": "python",
   "name": "python3"
  },
  "language_info": {
   "codemirror_mode": {
    "name": "ipython",
    "version": 3
   },
   "file_extension": ".py",
   "mimetype": "text/x-python",
   "name": "python",
   "nbconvert_exporter": "python",
   "pygments_lexer": "ipython3",
   "version": "3.12.4"
  }
 },
 "nbformat": 4,
 "nbformat_minor": 5
}
