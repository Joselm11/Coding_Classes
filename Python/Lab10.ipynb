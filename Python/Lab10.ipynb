{
 "cells": [
  {
   "cell_type": "code",
   "execution_count": 8,
   "id": "86a4c083-fde9-4ebc-bc4f-bd864364cc85",
   "metadata": {},
   "outputs": [
    {
     "name": "stdout",
     "output_type": "stream",
     "text": [
      "COMMAND MENU\n",
      "list - List all movies\n",
      "add - Add a movie\n",
      "del - Delete a movie\n",
      "exit - exit program\n"
     ]
    },
    {
     "name": "stdin",
     "output_type": "stream",
     "text": [
      "Enter Command:  del\n",
      "Movie number:  3\n"
     ]
    },
    {
     "ename": "AttributeError",
     "evalue": "type object 'Movies' has no attribute 'title'",
     "output_type": "error",
     "traceback": [
      "\u001b[0;31m---------------------------------------------------------------------------\u001b[0m",
      "\u001b[0;31mAttributeError\u001b[0m                            Traceback (most recent call last)",
      "Cell \u001b[0;32mIn[8], line 82\u001b[0m\n\u001b[1;32m     79\u001b[0m     \u001b[38;5;28mprint\u001b[39m(\u001b[38;5;124m\"\u001b[39m\u001b[38;5;124mYou\u001b[39m\u001b[38;5;124m'\u001b[39m\u001b[38;5;124mll be back!\u001b[39m\u001b[38;5;124m\"\u001b[39m)     \n\u001b[1;32m     81\u001b[0m \u001b[38;5;28;01mif\u001b[39;00m \u001b[38;5;18m__name__\u001b[39m \u001b[38;5;241m==\u001b[39m \u001b[38;5;124m\"\u001b[39m\u001b[38;5;124m__main__\u001b[39m\u001b[38;5;124m\"\u001b[39m:\n\u001b[0;32m---> 82\u001b[0m     main()\n",
      "Cell \u001b[0;32mIn[8], line 72\u001b[0m, in \u001b[0;36mmain\u001b[0;34m()\u001b[0m\n\u001b[1;32m     70\u001b[0m     display_menu()\n\u001b[1;32m     71\u001b[0m \u001b[38;5;28;01melif\u001b[39;00m command\u001b[38;5;241m.\u001b[39mlower() \u001b[38;5;241m==\u001b[39m \u001b[38;5;124m\"\u001b[39m\u001b[38;5;124mdel\u001b[39m\u001b[38;5;124m\"\u001b[39m:\n\u001b[0;32m---> 72\u001b[0m     delete(movie_list)\n\u001b[1;32m     73\u001b[0m     display_menu()\n\u001b[1;32m     74\u001b[0m \u001b[38;5;28;01melse\u001b[39;00m:\n",
      "Cell \u001b[0;32mIn[8], line 53\u001b[0m, in \u001b[0;36mdelete\u001b[0;34m(movie_list)\u001b[0m\n\u001b[1;32m     51\u001b[0m \u001b[38;5;28;01melse\u001b[39;00m:\n\u001b[1;32m     52\u001b[0m     movie \u001b[38;5;241m=\u001b[39m movie_list\u001b[38;5;241m.\u001b[39mpop(number\u001b[38;5;241m-\u001b[39m\u001b[38;5;241m1\u001b[39m)\n\u001b[0;32m---> 53\u001b[0m     \u001b[38;5;28mprint\u001b[39m(Movies\u001b[38;5;241m.\u001b[39mtitle \u001b[38;5;241m+\u001b[39m \u001b[38;5;124m\"\u001b[39m\u001b[38;5;124m was deleted.\u001b[39m\u001b[38;5;130;01m\\n\u001b[39;00m\u001b[38;5;124m\"\u001b[39m)\n",
      "\u001b[0;31mAttributeError\u001b[0m: type object 'Movies' has no attribute 'title'"
     ]
    }
   ],
   "source": [
    "#Jose and Joseph\n",
    "class Movies:\n",
    "    \"\"\"\n",
    "    Class to create movies into objects\n",
    "    \"\"\"\n",
    "    \n",
    "    def __init__(self, title, year):\n",
    "        self.title = title\n",
    "        self.year = year\n",
    "        \n",
    "    def getStr(self,title,year):\n",
    "        return self.__title,self.__year\n",
    "    \n",
    "    def setStr(self,title,year):\n",
    "        self.__title = title\n",
    "        self.__year = year\n",
    "    \n",
    "        \n",
    "def display_menu():\n",
    "    print(\"COMMAND MENU\")\n",
    "    print(\"list - List all movies\")\n",
    "    print(\"add - Add a movie\")\n",
    "    print(\"del - Delete a movie\")\n",
    "    print(\"exit - exit program\")\n",
    "    \n",
    "def list(movie_list):\n",
    "    \"\"\"\n",
    "    Adjusting movie list to print out movies\n",
    "    \"\"\"\n",
    "    if len(movie_list) == 0:\n",
    "        print(\"There are no movies in the list.\\n\")\n",
    "    else:\n",
    "        print()\n",
    "        i = 1\n",
    "        for movie in movie_list:\n",
    "            print(str(i) + \". \" + movie.title + \" (\" + str(movie.year) + \")\")\n",
    "            i += 1\n",
    "        print()\n",
    "    \n",
    "def add(movie_list):\n",
    "    title = input(\"Movie Name: \")\n",
    "    year = input(\"Movie Year: \")\n",
    "    movie = Movies(title,year)\n",
    "    movie_list.append(movie)\n",
    "    print(title + \" was added.\\n\")\n",
    "    \n",
    "def delete(movie_list):\n",
    "    number = int(input(\"Movie number: \"))\n",
    "    if number < 1 or number > len(movie_list):\n",
    "        print(\"Invalid movie number.\\n\")\n",
    "    else:\n",
    "        movie = movie_list.pop(number-1)\n",
    "        print(Movies.title + \" was deleted.\\n\")\n",
    "              \n",
    "def main():\n",
    "    movie_list = [Movies('A Star is Born', 2018),\n",
    "                  Movies('An Old Man and a Gun', 2018),\n",
    "                  Movies('X-Men', 2017)]\n",
    "              \n",
    "    display_menu()\n",
    "    command = input(\"Enter Command: \")\n",
    "        \n",
    "    while (command.lower() != \"exit\"):\n",
    "        \n",
    "        if command.lower() == \"list\":\n",
    "            list(movie_list)\n",
    "            display_menu()\n",
    "        elif command.lower() == \"add\":\n",
    "            add(movie_list)\n",
    "            display_menu()\n",
    "        elif command.lower() == \"del\":\n",
    "            delete(movie_list)\n",
    "            display_menu()\n",
    "        else:\n",
    "            print(\"Not a valid command.  Please try again.\\n\")\n",
    "\n",
    "        command = input(\"Enter Command: \")\n",
    "         \n",
    "    print(\"You'll be back!\")     \n",
    "        \n",
    "if __name__ == \"__main__\":\n",
    "    main()"
   ]
  },
  {
   "cell_type": "code",
   "execution_count": null,
   "id": "c578dfa6-7d91-4070-a260-2cb77640fc6a",
   "metadata": {},
   "outputs": [],
   "source": []
  }
 ],
 "metadata": {
  "kernelspec": {
   "display_name": "Python 3 (ipykernel)",
   "language": "python",
   "name": "python3"
  },
  "language_info": {
   "codemirror_mode": {
    "name": "ipython",
    "version": 3
   },
   "file_extension": ".py",
   "mimetype": "text/x-python",
   "name": "python",
   "nbconvert_exporter": "python",
   "pygments_lexer": "ipython3",
   "version": "3.12.4"
  }
 },
 "nbformat": 4,
 "nbformat_minor": 5
}
